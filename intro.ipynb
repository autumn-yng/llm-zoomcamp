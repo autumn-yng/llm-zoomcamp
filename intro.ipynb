{
 "cells": [
  {
   "cell_type": "code",
   "execution_count": 1,
   "id": "6a79e419-82f2-4836-82de-dff865e2c374",
   "metadata": {},
   "outputs": [],
   "source": [
    "from openai import OpenAI\n",
    "import os"
   ]
  },
  {
   "cell_type": "code",
   "execution_count": 2,
   "id": "ebe8616c-ba2f-48e2-b54b-1c9db58f8359",
   "metadata": {},
   "outputs": [],
   "source": [
    "client = OpenAI()"
   ]
  },
  {
   "cell_type": "code",
   "execution_count": null,
   "id": "36c7a6d7-5db2-47a5-b0ec-0867e348e97b",
   "metadata": {},
   "outputs": [],
   "source": [
    "!pip install minsearch\n",
    "\n",
    "!wget https://raw.githubusercontent.com/DataTalksClub/llm-zoomcamp/refs/heads/main/01-intro/documents.json"
   ]
  },
  {
   "cell_type": "code",
   "execution_count": 6,
   "id": "4ffa5695",
   "metadata": {},
   "outputs": [],
   "source": [
    "import minsearch\n",
    "import json"
   ]
  },
  {
   "cell_type": "code",
   "execution_count": 8,
   "id": "a066e361",
   "metadata": {},
   "outputs": [],
   "source": [
    "with open('documents.json', 'rt') as f_in:\n",
    "    docs_raw = json.load(f_in)"
   ]
  },
  {
   "cell_type": "code",
   "execution_count": 9,
   "id": "6f835efc",
   "metadata": {},
   "outputs": [],
   "source": [
    "documents = []\n",
    "\n",
    "# a doc inside a course_dict only has 'text', 'section', 'question', but nothing like 'course', because in the json file it's already a block inside a specific course. To build our documents dictionary of doc objects, we get the 'course' info to add to each doc ob ject.\n",
    "for course_dict in docs_raw:\n",
    "    for doc in course_dict['documents']:\n",
    "        doc['course'] = course_dict['course']\n",
    "        documents.append(doc)"
   ]
  },
  {
   "cell_type": "code",
   "execution_count": 10,
   "id": "0e5acccb",
   "metadata": {},
   "outputs": [
    {
     "data": {
      "text/plain": [
       "<minsearch.minsearch.Index at 0x7b88bf418bf0>"
      ]
     },
     "execution_count": 10,
     "metadata": {},
     "output_type": "execute_result"
    }
   ],
   "source": [
    "# build an index object so that when the user queries a specific term, the result is returned faster (compared to when searching through the whole document every time)\n",
    "# there's more preprocessing time and memory space required to create an index object, but in turn we get much faster lookups especially when the number of documents grow\n",
    "\n",
    "index = minsearch.Index(\n",
    "    text_fields=[\"question\", \"text\", \"section\"],\n",
    "    keyword_fields=[\"course\"]\n",
    ")\n",
    "index.fit(documents)"
   ]
  },
  {
   "cell_type": "code",
   "execution_count": null,
   "id": "2d16550d",
   "metadata": {},
   "outputs": [],
   "source": [
    "def search(query):\n",
    "    boost = {'question': 3.0, 'section': 0.5}\n",
    "\n",
    "    results = index.search(\n",
    "        query=query,\n",
    "        filter_dict={'course': 'data-engineering-zoomcamp'},\n",
    "        boost_dict=boost,\n",
    "        num_results=3\n",
    "    )\n",
    "\n",
    "    return results"
   ]
  },
  {
   "cell_type": "code",
   "execution_count": 13,
   "id": "00fa4775",
   "metadata": {},
   "outputs": [],
   "source": [
    "def build_prompt(query, search_results):\n",
    "    prompt_template = \"\"\"\n",
    "You're a course teaching assistant. Answer the QUESTION based on the CONTEXT from the FAQ database.\n",
    "Use only the facts from the CONTEXT when answering the QUESTION.\n",
    "\n",
    "QUESTION: {question}\n",
    "\n",
    "CONTEXT: \n",
    "{context}\n",
    "\"\"\".strip()\n",
    "\n",
    "    context = \"\"\n",
    "    \n",
    "    for doc in search_results:\n",
    "        context = context + f\"section: {doc['section']}\\nquestion: {doc['question']}\\nanswer: {doc['text']}\\n\\n\"\n",
    "    \n",
    "    prompt = prompt_template.format(question=query, context=context).strip()\n",
    "    return prompt"
   ]
  },
  {
   "cell_type": "code",
   "execution_count": 14,
   "id": "514c5d70",
   "metadata": {},
   "outputs": [],
   "source": [
    "query = \"is it too late to join the course?\"\n",
    "search_results = search(query)\n",
    "rag_prompt = build_prompt(query, search_results)"
   ]
  },
  {
   "cell_type": "code",
   "execution_count": 17,
   "id": "cbac4be7",
   "metadata": {},
   "outputs": [
    {
     "data": {
      "text/plain": [
       "[{'text': \"Yes, even if you don't register, you're still eligible to submit the homeworks.\\nBe aware, however, that there will be deadlines for turning in the final projects. So don't leave everything for the last minute.\",\n",
       "  'section': 'General course-related questions',\n",
       "  'question': 'Course - Can I still join the course after the start date?',\n",
       "  'course': 'data-engineering-zoomcamp'},\n",
       " {'text': \"The purpose of this document is to capture frequently asked technical questions\\nThe exact day and hour of the course will be 15th Jan 2024 at 17h00. The course will start with the first  “Office Hours'' live.1\\nSubscribe to course public Google Calendar (it works from Desktop only).\\nRegister before the course starts using this link.\\nJoin the course Telegram channel with announcements.\\nDon’t forget to register in DataTalks.Club's Slack and join the channel.\",\n",
       "  'section': 'General course-related questions',\n",
       "  'question': 'Course - When will the course start?',\n",
       "  'course': 'data-engineering-zoomcamp'},\n",
       " {'text': 'Yes, we will keep all the materials after the course finishes, so you can follow the course at your own pace after it finishes.\\nYou can also continue looking at the homeworks and continue preparing for the next cohort. I guess you can also start working on your final capstone project.',\n",
       "  'section': 'General course-related questions',\n",
       "  'question': 'Course - Can I follow the course after it finishes?',\n",
       "  'course': 'data-engineering-zoomcamp'}]"
      ]
     },
     "execution_count": 17,
     "metadata": {},
     "output_type": "execute_result"
    }
   ],
   "source": [
    "search_results"
   ]
  },
  {
   "cell_type": "code",
   "execution_count": 19,
   "id": "fdccafb6",
   "metadata": {},
   "outputs": [
    {
     "name": "stdout",
     "output_type": "stream",
     "text": [
      "You're a course teaching assistant. Answer the QUESTION based on the CONTEXT from the FAQ database.\n",
      "Use only the facts from the CONTEXT when answering the QUESTION.\n",
      "\n",
      "QUESTION: is it too late to join the course?\n",
      "\n",
      "CONTEXT: \n",
      "section: General course-related questions\n",
      "question: Course - Can I still join the course after the start date?\n",
      "answer: Yes, even if you don't register, you're still eligible to submit the homeworks.\n",
      "Be aware, however, that there will be deadlines for turning in the final projects. So don't leave everything for the last minute.\n",
      "\n",
      "section: General course-related questions\n",
      "question: Course - When will the course start?\n",
      "answer: The purpose of this document is to capture frequently asked technical questions\n",
      "The exact day and hour of the course will be 15th Jan 2024 at 17h00. The course will start with the first  “Office Hours'' live.1\n",
      "Subscribe to course public Google Calendar (it works from Desktop only).\n",
      "Register before the course starts using this link.\n",
      "Join the course Telegram channel with announcements.\n",
      "Don’t forget to register in DataTalks.Club's Slack and join the channel.\n",
      "\n",
      "section: General course-related questions\n",
      "question: Course - Can I follow the course after it finishes?\n",
      "answer: Yes, we will keep all the materials after the course finishes, so you can follow the course at your own pace after it finishes.\n",
      "You can also continue looking at the homeworks and continue preparing for the next cohort. I guess you can also start working on your final capstone project.\n"
     ]
    }
   ],
   "source": [
    "print(rag_prompt)"
   ]
  },
  {
   "cell_type": "code",
   "execution_count": 15,
   "id": "bc19c1b4",
   "metadata": {},
   "outputs": [
    {
     "data": {
      "text/plain": [
       "'I can help — but I need one detail first: which course (school/platform and course name or code)? Policies vary a lot by institution and by whether it’s a university semester course, a short workshop, or an online MOOC.\\n\\nMeanwhile, here’s quick, actionable guidance you can use right away.\\n\\nTypical rules (very roughly)\\n- University semester courses: add/drop or late-enroll windows are usually in the first 1–3 weeks. After that you often need instructor permission and/or registrar approval.\\n- Labs, seminars, group projects, clinicals: these fill up or require permission sooner than lectures.\\n- MOOCs (Coursera/edX/etc.): many are open to join but graded deadlines may already have passed — you can usually audit content anytime.\\n- Short workshops or certificate courses: may close once they start or cap capacity.\\n\\nImmediate steps to take\\n1. Check the course page/registration portal for deadlines and capacity.\\n2. Find the syllabus/LMS (Canvas/Blackboard) and note missed assignments.\\n3. Email the instructor (or course coordinator) right away requesting permission to join.\\n4. If needed, contact the registrar/administration about late-enrollment or waitlist procedures.\\n5. Join the next class meeting or watch the recording, and get notes from a classmate.\\n6. Make a catch-up plan: list missed lectures/assignments and ask which are required vs. optional.\\n\\nQuick email template you can copy/paste\\nSubject: Request to join [Course Code/Name] — late enrollment\\n\\nHello Professor [Name],\\n\\nI’m [Your Name], [student ID if applicable]. I’m writing to ask if it’s still possible to join [Course Code — Course Name] this term. I understand I’m joining late and I’m prepared to catch up immediately on missed material. Could you please let me know:\\n- Whether you’ll allow me to enroll or audit,\\n- Any missed assignments I must complete,\\n- Where I can access lecture recordings/slides or notes.\\n\\nI have [brief reason, optional: e.g., schedule conflict that’s now resolved] and I’m ready to follow any conditions you set. Thank you for your time.\\n\\nSincerely,\\n[Your name, contact info]\\n\\nIf you tell me the course (platform/institution and code/name) and how late you are, I’ll draft a tailored message and a catch-up checklist.'"
      ]
     },
     "execution_count": 15,
     "metadata": {},
     "output_type": "execute_result"
    }
   ],
   "source": [
    "# prompt GPT to answer without RAG\n",
    "\n",
    "# have to add at least $5 to OpenAI balance if encounter RateLimitError\n",
    "response = client.chat.completions.create(\n",
    "    model='gpt-5-mini',\n",
    "    messages=[{\"role\":\"user\", \"content\":\"is it too late to join the course?\"}]\n",
    "\n",
    ")\n",
    "response.choices[0].message.content"
   ]
  },
  {
   "cell_type": "code",
   "execution_count": 16,
   "id": "ac3f32bb",
   "metadata": {},
   "outputs": [
    {
     "data": {
      "text/plain": [
       "\"No — you can still join after the start. Even if you don't register, you're still eligible to submit homeworks. Keep in mind there are deadlines for final projects, so don't leave everything to the last minute. After the course finishes, materials remain available so you can follow at your own pace.\""
      ]
     },
     "execution_count": 16,
     "metadata": {},
     "output_type": "execute_result"
    }
   ],
   "source": [
    "# prompt GPT to answer WITH RAG\n",
    "response = client.chat.completions.create(\n",
    "    model='gpt-5-mini',\n",
    "    messages=[{\"role\":\"user\", \"content\":rag_prompt}]\n",
    "\n",
    ")\n",
    "response.choices[0].message.content"
   ]
  }
 ],
 "metadata": {
  "kernelspec": {
   "display_name": "Python 3",
   "language": "python",
   "name": "python3"
  },
  "language_info": {
   "codemirror_mode": {
    "name": "ipython",
    "version": 3
   },
   "file_extension": ".py",
   "mimetype": "text/x-python",
   "name": "python",
   "nbconvert_exporter": "python",
   "pygments_lexer": "ipython3",
   "version": "3.12.1"
  }
 },
 "nbformat": 4,
 "nbformat_minor": 5
}
