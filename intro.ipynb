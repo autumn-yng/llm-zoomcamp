{
 "cells": [
  {
   "cell_type": "code",
   "execution_count": 4,
   "id": "6a79e419-82f2-4836-82de-dff865e2c374",
   "metadata": {},
   "outputs": [],
   "source": [
    "from openai import OpenAI\n",
    "import os"
   ]
  },
  {
   "cell_type": "code",
   "execution_count": 3,
   "id": "ebe8616c-ba2f-48e2-b54b-1c9db58f8359",
   "metadata": {},
   "outputs": [],
   "source": [
    "client = OpenAI()"
   ]
  },
  {
   "cell_type": "code",
   "execution_count": null,
   "id": "6f106dce-261d-4eb6-bbc3-9ea4bf0ae4a2",
   "metadata": {},
   "outputs": [],
   "source": [
    "# have to add at least $5 to OpenAI balance if encounter RateLimitError\n",
    "response = client.chat.completions.create(\n",
    "    model='gpt-5-mini',\n",
    "    messages=[{\"role\":\"user\", \"content\":\"is it too late to join the course?\"}]\n",
    "\n",
    ")\n",
    "    "
   ]
  },
  {
   "cell_type": "code",
   "execution_count": 13,
   "id": "54e6b2ae-5436-446f-8323-ba2ecd0e6aa9",
   "metadata": {},
   "outputs": [
    {
     "data": {
      "text/plain": [
       "'I can help — but I need a bit more info. Which course do you mean (course name/code and school or platform)? When does it start or did it already start?\\n\\nWhile you reply, here are quick steps you can take right now and a short message you can send to the instructor/admin:\\n\\nSteps to check immediately\\n- Look at the course enrollment page or your student portal for deadlines and capacity.\\n- If the portal is closed or full, see if there’s a waitlist or an “instructor permission” option.\\n- Check whether the course is self-paced or has recorded lectures you can access.\\n- Find the syllabus and current assignments so you can estimate how much catching up is required.\\n- Contact the instructor or course admin ASAP to ask about late enrollment, joining as an auditor, or remote access.\\n- If you can’t enroll formally, consider following along unofficially (recordings, readings) and join assignments/discussions when possible.\\n\\nSample message to instructor/admin\\nHi [Instructor Name],  \\nI’m [Your Name], a [year/role]. I’d like to enroll in [Course Name & Code]. I missed the enrollment window because [brief reason]. Is late enrollment or instructor permission possible at this point? If so, what steps should I take and what work would I need to catch up on? I’m prepared to complete missed assignments and meet any requirements. Thank you for your time. —[Your Name, contact info]\\n\\nIf you tell me the course and your situation (already started? how many weeks missed? in-person or online?), I can craft a tailored message and a catch-up plan.'"
      ]
     },
     "execution_count": 13,
     "metadata": {},
     "output_type": "execute_result"
    }
   ],
   "source": [
    "response.choices[0].message.content"
   ]
  },
  {
   "cell_type": "code",
   "execution_count": null,
   "id": "36c7a6d7-5db2-47a5-b0ec-0867e348e97b",
   "metadata": {},
   "outputs": [],
   "source": []
  }
 ],
 "metadata": {
  "kernelspec": {
   "display_name": "Python 3 (ipykernel)",
   "language": "python",
   "name": "python3"
  },
  "language_info": {
   "codemirror_mode": {
    "name": "ipython",
    "version": 3
   },
   "file_extension": ".py",
   "mimetype": "text/x-python",
   "name": "python",
   "nbconvert_exporter": "python",
   "pygments_lexer": "ipython3",
   "version": "3.12.1"
  }
 },
 "nbformat": 4,
 "nbformat_minor": 5
}
